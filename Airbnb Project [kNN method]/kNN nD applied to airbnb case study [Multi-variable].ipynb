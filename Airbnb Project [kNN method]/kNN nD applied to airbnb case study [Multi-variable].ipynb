{
 "cells": [
  {
   "cell_type": "code",
   "execution_count": 52,
   "metadata": {
    "scrolled": true
   },
   "outputs": [],
   "source": [
    "import pandas as pd\n",
    "import numpy as np\n",
    "from scipy.spatial import distance\n",
    "from sklearn.neighbors import KNeighborsRegressor\n",
    "from sklearn.metrics import mean_squared_error\n",
    "\n",
    "\n",
    "pd.options.mode.chained_assignment = None\n",
    "np.random.seed(1)\n",
    "\n",
    "\n",
    "paris_listings = pd.read_csv('paris_airbnb.csv')\n",
    "\n",
    "paris_listings = paris_listings.loc[np.random.permutation(len(paris_listings))]\n",
    "\n",
    "#Nettoyer les données : Prix -> enlever les symboles ,$ puis convertir en float\n",
    "stripped_commas= paris_listings['price'].astype(str).str.replace(',','')\n",
    "stripped_commas_doll= stripped_commas.astype(str).str.replace('$','')\n",
    "\n",
    "paris_listings['price'] = stripped_commas_doll.astype('float')\n",
    "\n"
   ]
  },
  {
   "cell_type": "code",
   "execution_count": 53,
   "metadata": {},
   "outputs": [
    {
     "data": {
      "text/plain": [
       "accommodates            0\n",
       "bedrooms               24\n",
       "bathrooms              58\n",
       "beds                   14\n",
       "price                   0\n",
       "cleaning_fee         1750\n",
       "security_deposit     1680\n",
       "minimum_nights          0\n",
       "maximum_nights          0\n",
       "number_of_reviews       0\n",
       "dtype: int64"
      ]
     },
     "execution_count": 53,
     "metadata": {},
     "output_type": "execute_result"
    }
   ],
   "source": [
    "#On voit que certains paramètres ne peuvent pas être utilisé\n",
    "#par la méthode distance euclidèene \n",
    "#data non numériques : city, room_type, state..\n",
    "#data non ordinales : latitude, longitude, zipcode\n",
    "#host_.. car concerne l'hote et pas le logement\n",
    "#On supprime ces colonnes de la dataFrame\n",
    "columns = ['room_type', 'city', 'state', 'latitude', 'longitude', 'longitude', 'zipcode','host_acceptance_rate' ,'host_response_rate', 'host_listings_count']\n",
    "\n",
    "paris_listings= paris_listings.drop(columns, axis=1)\n",
    "\n",
    "#On détecte les colomnes avec des valeurs manquantes\n",
    "paris_listings.isnull().sum()"
   ]
  },
  {
   "cell_type": "code",
   "execution_count": 54,
   "metadata": {},
   "outputs": [
    {
     "data": {
      "text/plain": [
       "accommodates         0\n",
       "bedrooms             0\n",
       "bathrooms            0\n",
       "beds                 0\n",
       "price                0\n",
       "minimum_nights       0\n",
       "maximum_nights       0\n",
       "number_of_reviews    0\n",
       "dtype: int64"
      ]
     },
     "execution_count": 54,
     "metadata": {},
     "output_type": "execute_result"
    }
   ],
   "source": [
    "#cleaning_fee et security_deposit contiennent bcp de 0 \n",
    "paris_listings= paris_listings.drop(['cleaning_fee','security_deposit'], axis=1)\n",
    "paris_listings = paris_listings.dropna()\n",
    "\n",
    "paris_listings.isnull().sum()\n",
    "\n"
   ]
  },
  {
   "cell_type": "code",
   "execution_count": 55,
   "metadata": {},
   "outputs": [
    {
     "data": {
      "text/html": [
       "<div>\n",
       "<style scoped>\n",
       "    .dataframe tbody tr th:only-of-type {\n",
       "        vertical-align: middle;\n",
       "    }\n",
       "\n",
       "    .dataframe tbody tr th {\n",
       "        vertical-align: top;\n",
       "    }\n",
       "\n",
       "    .dataframe thead th {\n",
       "        text-align: right;\n",
       "    }\n",
       "</style>\n",
       "<table border=\"1\" class=\"dataframe\">\n",
       "  <thead>\n",
       "    <tr style=\"text-align: right;\">\n",
       "      <th></th>\n",
       "      <th>price</th>\n",
       "    </tr>\n",
       "  </thead>\n",
       "  <tbody>\n",
       "    <tr>\n",
       "      <th>4740</th>\n",
       "      <td>65.0</td>\n",
       "    </tr>\n",
       "    <tr>\n",
       "      <th>5606</th>\n",
       "      <td>98.0</td>\n",
       "    </tr>\n",
       "    <tr>\n",
       "      <th>4824</th>\n",
       "      <td>65.0</td>\n",
       "    </tr>\n",
       "    <tr>\n",
       "      <th>4205</th>\n",
       "      <td>45.0</td>\n",
       "    </tr>\n",
       "    <tr>\n",
       "      <th>3228</th>\n",
       "      <td>65.0</td>\n",
       "    </tr>\n",
       "    <tr>\n",
       "      <th>...</th>\n",
       "      <td>...</td>\n",
       "    </tr>\n",
       "    <tr>\n",
       "      <th>7935</th>\n",
       "      <td>72.0</td>\n",
       "    </tr>\n",
       "    <tr>\n",
       "      <th>5192</th>\n",
       "      <td>49.0</td>\n",
       "    </tr>\n",
       "    <tr>\n",
       "      <th>3980</th>\n",
       "      <td>99.0</td>\n",
       "    </tr>\n",
       "    <tr>\n",
       "      <th>235</th>\n",
       "      <td>230.0</td>\n",
       "    </tr>\n",
       "    <tr>\n",
       "      <th>5157</th>\n",
       "      <td>100.0</td>\n",
       "    </tr>\n",
       "  </tbody>\n",
       "</table>\n",
       "<p>7917 rows × 1 columns</p>\n",
       "</div>"
      ],
      "text/plain": [
       "      price\n",
       "4740   65.0\n",
       "5606   98.0\n",
       "4824   65.0\n",
       "4205   45.0\n",
       "3228   65.0\n",
       "...     ...\n",
       "7935   72.0\n",
       "5192   49.0\n",
       "3980   99.0\n",
       "235   230.0\n",
       "5157  100.0\n",
       "\n",
       "[7917 rows x 1 columns]"
      ]
     },
     "execution_count": 55,
     "metadata": {},
     "output_type": "execute_result"
    }
   ],
   "source": [
    "#Dans ce cas multi variable, on normalise les features\n",
    "\n",
    "new_listings = (paris_listings - paris_listings.mean()) / (paris_listings.std())\n",
    "new_listings['price'] = paris_listings['price']\n",
    "\n",
    "\n",
    "new_listings.head()\n",
    "new_listings[['price']]\n"
   ]
  },
  {
   "cell_type": "code",
   "execution_count": 56,
   "metadata": {},
   "outputs": [
    {
     "data": {
      "text/plain": [
       "2.022887452162708"
      ]
     },
     "execution_count": 56,
     "metadata": {},
     "output_type": "execute_result"
    },
    {
     "data": {
      "image/png": "[encoded data removed]",
      "text/plain": [
       "<Figure size 432x288 with 1 Axes>"
      ]
     },
     "metadata": {
      "needs_background": "light"
     },
     "output_type": "display_data"
    }
   ],
   "source": [
    "#Calcul de matrice de distance euclidèene\n",
    "\n",
    "first_listings = new_listings.iloc[2][['accommodates','bedrooms','number_of_reviews']]\n",
    "fifth_listings = new_listings.iloc[5400][['accommodates','bedrooms','number_of_reviews']]\n",
    "\n",
    "dist = distance.euclidean(first_listings, fifth_listings)\n",
    "\n",
    "euclid_matrix = distance.cdist(new_listings.iloc[:][['accommodates','bedrooms','number_of_reviews']], new_listings.iloc[:][['accommodates','bedrooms','number_of_reviews']], metric='euclidean')\n",
    "\n",
    "import matplotlib.pyplot as plt\n",
    "\n",
    "plt.plot(euclid_matrix)\n",
    "\n",
    "euclid_matrix.mean()\n",
    "    \n"
   ]
  },
  {
   "cell_type": "code",
   "execution_count": 57,
   "metadata": {},
   "outputs": [
    {
     "name": "stdout",
     "output_type": "stream",
     "text": [
      "Prédiction avec quelques variables : Calcul du rmse 73.6686141125829\n",
      "Prédiction avec toutes les variables : Calcul du rmse 79.47518111426699\n"
     ]
    }
   ],
   "source": [
    "#Utilisation de sklearn pour faire des prévisions\n",
    "#Comparaison : Utilisation de quelques variables vs Utilisation de toutes les variables\n",
    "\n",
    "\n",
    "\n",
    "train_df = new_listings.iloc[0:5999]\n",
    "test_df = new_listings.iloc[6000:]\n",
    "\n",
    "predictor_cols = ['accommodates', 'bedrooms', 'bathrooms', 'beds']\n",
    "\n",
    "\n",
    "train_X = train_df[predictor_cols]\n",
    "train_Y = train_df['price']\n",
    "\n",
    "my_model = KNeighborsRegressor(n_neighbors=5, algorithm='brute')\n",
    "model_all_features = KNeighborsRegressor(n_neighbors=5, algorithm='brute')\n",
    "\n",
    "features = train_df.columns.to_list()\n",
    "features.remove('price')\n",
    "\n",
    "my_model.fit(train_X,train_Y)\n",
    "model_all_features.fit(train_df[features],train_df['price'])\n",
    "\n",
    "\n",
    "predictions = my_model.predict(test_df[predictor_cols]) \n",
    "predictions_all_features = model_all_features.predict(test_df[features]) \n",
    "\n",
    "\n",
    "print('Prédiction avec quelques variables : Calcul du rmse ' + str(np.sqrt(mean_squared_error(test_df['price'],predictions))))\n",
    "\n",
    "print('Prédiction avec toutes les variables : Calcul du rmse ' + str(np.sqrt(mean_squared_error(test_df['price'],predictions_all_features))))\n",
    "\n",
    "#Conclusion : Utiliser plus de X ne permet pas une meilleure \n",
    "# prédiction de Y pour cette méthode\n",
    "\n",
    "\n",
    "\n"
   ]
  },
  {
   "cell_type": "code",
   "execution_count": null,
   "metadata": {},
   "outputs": [],
   "source": []
  }
 ],
 "metadata": {
  "kernelspec": {
   "display_name": "Python 3",
   "language": "python",
   "name": "python3"
  },
  "language_info": {
   "codemirror_mode": {
    "name": "ipython",
    "version": 3
   },
   "file_extension": ".py",
   "mimetype": "text/x-python",
   "name": "python",
   "nbconvert_exporter": "python",
   "pygments_lexer": "ipython3",
   "version": "3.7.6"
  }
 },
 "nbformat": 4,
 "nbformat_minor": 4
}
