{
 "cells": [
  {
   "cell_type": "code",
   "execution_count": 4,
   "metadata": {
    "scrolled": true
   },
   "outputs": [],
   "source": [
    "import pandas as pd\n",
    "import numpy as np\n",
    "pd.options.mode.chained_assignment = None\n",
    "np.random.seed(1)\n",
    "\n",
    "\n",
    "paris_listings = pd.read_csv('paris_airbnb.csv')\n",
    "\n",
    "\n",
    "#Nettoyer les données : Prix -> enlever les symboles ,$ puis convertir en float\n",
    "stripped_commas= paris_listings['price'].astype(str).str.replace(',','')\n",
    "stripped_commas_doll= stripped_commas.astype(str).str.replace('$','')\n",
    "\n",
    "paris_listings['price'] = stripped_commas_doll.astype('float')\n",
    "\n",
    "#Séparer les données en Set de training et Set de test\n",
    "\n",
    "train_df = paris_listings.loc[0:5999].copy()\n",
    "\n",
    "test_df = paris_listings.loc[6000:].copy()\n",
    "\n",
    "\n"
   ]
  },
  {
   "cell_type": "code",
   "execution_count": 5,
   "metadata": {},
   "outputs": [],
   "source": [
    "\n",
    "#Randomiser pour pas tomber dans le piège des 5 premières valeurs\n",
    "train_df = train_df.loc[np.random.permutation(len(train_df))]\n",
    "\n",
    "#Fonction qui calcule le prix prédit à partir du training set\n",
    "\n",
    "def predict_price(new_listing) : \n",
    "    #copier dans une nouvelle dataframe\n",
    "    temp_df = train_df.copy()\n",
    "    #calucler la distance euclidèene\n",
    "    temp_df['distance'] = temp_df['bedrooms'].apply(lambda x: np.abs(x - new_listing))\n",
    "    #Trier \n",
    "    temp_df = temp_df.sort_values('distance')\n",
    "    \n",
    "    nearest_neighbors = temp_df.iloc[0:5]['price']\n",
    "    \n",
    "    predicted_price = nearest_neighbors.mean()\n",
    "    \n",
    "    return predicted_price\n",
    "\n",
    "#Prédire Les prix du set de test\n",
    "test_df['predicted_price'] = test_df['bedrooms'].apply(predict_price)\n",
    "\n"
   ]
  },
  {
   "cell_type": "code",
   "execution_count": 6,
   "metadata": {},
   "outputs": [
    {
     "name": "stdout",
     "output_type": "stream",
     "text": [
      "44.10609999999988\n"
     ]
    }
   ],
   "source": [
    "#Métrique d'erreur : Moyen Absolut Error (MAE)\n",
    "\n",
    "test_df['error'] = np.abs(test_df['predicted_price'] - test_df['price'])\n",
    "mae = test_df['error'].mean()\n",
    "print(mae)"
   ]
  },
  {
   "cell_type": "code",
   "execution_count": 7,
   "metadata": {},
   "outputs": [
    {
     "name": "stdout",
     "output_type": "stream",
     "text": [
      "80.29918094227318\n"
     ]
    }
   ],
   "source": [
    "#Métrique d'erreur : Moyen Squarred Error (MSE)\n",
    "\n",
    "\n",
    "test_df['error quadratique'] = np.square(test_df['predicted_price'] - test_df['price'])\n",
    "mse = test_df['error quadratique'].mean()\n",
    "print(np.sqrt(mse))\n",
    "\n"
   ]
  },
  {
   "cell_type": "code",
   "execution_count": null,
   "metadata": {},
   "outputs": [],
   "source": []
  }
 ],
 "metadata": {
  "kernelspec": {
   "display_name": "Python 3",
   "language": "python",
   "name": "python3"
  },
  "language_info": {
   "codemirror_mode": {
    "name": "ipython",
    "version": 3
   },
   "file_extension": ".py",
   "mimetype": "text/x-python",
   "name": "python",
   "nbconvert_exporter": "python",
   "pygments_lexer": "ipython3",
   "version": "3.7.6"
  }
 },
 "nbformat": 4,
 "nbformat_minor": 4
}
