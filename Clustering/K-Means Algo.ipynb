{
 "cells": [
  {
   "cell_type": "code",
   "execution_count": 11,
   "metadata": {},
   "outputs": [],
   "source": [
    "# @ASA 31/03/2021\n",
    "\n",
    "#Define libraries : \n",
    "\n",
    "import numpy as np\n",
    "import math\n",
    "from scipy.spatial import distance\n",
    "\n",
    "#Define variables\n",
    "NUM_CLUSTERS = 3     \n",
    "MAX_ITER = 300\n",
    "TOL = 0.03\n",
    "\n",
    "datapoints = [(1, 1), (2, 2), (3, 3), (4, 4), (5, 5)]\n",
    "\n",
    "\n"
   ]
  },
  {
   "cell_type": "code",
   "execution_count": 7,
   "metadata": {},
   "outputs": [],
   "source": [
    "#Function to convert lists to dict if necessary\n",
    "def centroides_to_dict(centroides) : \n",
    "    dictionary = dict()\n",
    "    counter=0\n",
    "    \n",
    "    for i in range(len(centroides)):\n",
    "        dictionary[counter] = list(centroides[i])\n",
    "        counter +=1\n",
    "    return dictionary"
   ]
  },
  {
   "cell_type": "code",
   "execution_count": 8,
   "metadata": {},
   "outputs": [
    {
     "name": "stdout",
     "output_type": "stream",
     "text": [
      "{0: [1, 1], 1: [2, 2], 2: [3, 3]}\n"
     ]
    }
   ],
   "source": [
    "datapoints = [(1, 1), (2, 2), (3, 3), (4, 4), (5, 5)]\n",
    "\n",
    "#Initialize k random data points for each initial centroid\n",
    "\n",
    "centroids = [ datapoints[i] for i in range(NUM_CLUSTERS) ]\n",
    "\n",
    "centroids_dict = centroides_to_dict(centroids)\n",
    "\n",
    "print(centroids_dict)\n"
   ]
  },
  {
   "cell_type": "code",
   "execution_count": 9,
   "metadata": {},
   "outputs": [
    {
     "name": "stdout",
     "output_type": "stream",
     "text": [
      "Inertia\n",
      "66.66666666666666\n",
      "Inertia\n",
      "50.0\n",
      "clusters: \n",
      "{0: [1.0, 1.0], 1: [2.5, 2.5], 2: [4.5, 4.5]}\n"
     ]
    }
   ],
   "source": [
    "optimized = True\n",
    "\n",
    "#Loop till max iteration\n",
    "for l in range(MAX_ITER) :\n",
    "    #local variables\n",
    "    dst = dict()\n",
    "    centr = []\n",
    "    classifications = []\n",
    "    d={}\n",
    "    \n",
    "    \n",
    "    #Compute closest cluster\n",
    "    for k in range(len(datapoints)) : \n",
    "\n",
    "        for cluster_id, centroid in centroids_dict.items() :\n",
    "            dst[cluster_id] = distance.euclidean(datapoints[k],centroid)\n",
    "\n",
    "        classifications.append(min(dst, key=dst.get)) #classifications has the closest cluster per index\n",
    "\n",
    "    for i,k in enumerate(classifications):\n",
    "        if k not in d:\n",
    "            d[k]=[]\n",
    "        d[k].append(datapoints[i])\n",
    "\n",
    "    #Compute new centroides\n",
    "    for k in d.keys():\n",
    "        centr.append([sum(y) / len(y) for y in zip(*d[k])])\n",
    "\n",
    "    centr= centroides_to_dict(centr) #convert it to dict\n",
    "    \n",
    "    for c in range(NUM_CLUSTERS):\n",
    "        original_centroid = centroids_dict[c]\n",
    "        current_centroid = centr[c]\n",
    "        #\n",
    "        if sum((np.array(current_centroid)-np.array(original_centroid))/original_centroid*100.0) > TOL : \n",
    "            print(\"Inertia\")\n",
    "            print(sum((np.array(current_centroid)-np.array(original_centroid))/original_centroid*100.0))\n",
    "            optimized = False\n",
    "            centroids_dict=centr\n",
    "            \n",
    "    if optimized : \n",
    "        break \n",
    "\n",
    "print(\"clusters: \")        \n",
    "print(centroids_dict)\n",
    "\n",
    "\n",
    "\n"
   ]
  },
  {
   "cell_type": "code",
   "execution_count": null,
   "metadata": {},
   "outputs": [],
   "source": []
  }
 ],
 "metadata": {
  "kernelspec": {
   "display_name": "Python 3",
   "language": "python",
   "name": "python3"
  },
  "language_info": {
   "codemirror_mode": {
    "name": "ipython",
    "version": 3
   },
   "file_extension": ".py",
   "mimetype": "text/x-python",
   "name": "python",
   "nbconvert_exporter": "python",
   "pygments_lexer": "ipython3",
   "version": "3.7.6"
  }
 },
 "nbformat": 4,
 "nbformat_minor": 4
}
